{
 "cells": [
  {
   "cell_type": "code",
   "execution_count": 2,
   "metadata": {},
   "outputs": [
    {
     "data": {
      "text/plain": [
       "<bound method NDFrame.head of       Q1  Q2  Q3  Q4  Q5  Q6  Q7  Q8  Q9  Q10  ...  Q30  Q31  Q32  \\\n",
       "0      2   2   3   1   4   5   4   3   4    3  ...    4    2    2   \n",
       "1      2   3   2   2   4   4   4   3   4    3  ...    4    3    1   \n",
       "2      3   4   3   3   4   4   3   1   2    4  ...    5    4    2   \n",
       "3      3   3   3   4   3   5   4   3  -1    4  ...    5    3    3   \n",
       "4      1   4   2   2   3   5   4   1   4    4  ...    5    4    2   \n",
       "...   ..  ..  ..  ..  ..  ..  ..  ..  ..  ...  ...  ...  ...  ...   \n",
       "1066   3   2   3   3   2   5   3   2   3    4  ...    4    4    4   \n",
       "1067   1   4   5   2   4   4   1   2   2    5  ...    4    1    2   \n",
       "1068   1   4   4   5   4   4   3   5   4    3  ...    4    1    5   \n",
       "1069   3   4   4   3   3   4   3   2   4    3  ...    4    3    3   \n",
       "1070   4   2   1   3   3   5   3   2   4    3  ...    4    3    1   \n",
       "\n",
       "      affiliative  selfenhancing  agressive  selfdefeating  age  gender  \\\n",
       "0             4.0            3.5        3.0            2.3   25       2   \n",
       "1             3.3            3.5        3.3            2.4   44       2   \n",
       "2             3.9            3.9        3.1            2.3   50       1   \n",
       "3             3.6            4.0        2.9            3.3   30       2   \n",
       "4             4.1            4.1        2.9            2.0   52       1   \n",
       "...           ...            ...        ...            ...  ...     ...   \n",
       "1066          2.5            3.3        2.9            3.0   18       2   \n",
       "1067          4.8            3.9        2.5            2.4   31       1   \n",
       "1068          4.4            3.9        3.0            4.3   15       1   \n",
       "1069          3.1            3.6        2.9            2.8   21       2   \n",
       "1070          3.4            3.0        3.0            2.5   30       2   \n",
       "\n",
       "      accuracy  \n",
       "0          100  \n",
       "1           90  \n",
       "2           75  \n",
       "3           85  \n",
       "4           80  \n",
       "...        ...  \n",
       "1066        95  \n",
       "1067        95  \n",
       "1068        95  \n",
       "1069        87  \n",
       "1070        75  \n",
       "\n",
       "[1071 rows x 39 columns]>"
      ]
     },
     "execution_count": 2,
     "metadata": {},
     "output_type": "execute_result"
    }
   ],
   "source": [
    "import pandas as pd\n",
    "\n",
    "df = pd.read_csv(\"data.csv\")\n",
    "df.head"
   ]
  }
 ],
 "metadata": {
  "interpreter": {
   "hash": "f23faf4bfe871c203c8bec80520af5927fc7cb1ae3bd834ddf554ee587ad1c05"
  },
  "kernelspec": {
   "display_name": "Python 3.8.6 64-bit",
   "language": "python",
   "name": "python3"
  },
  "language_info": {
   "codemirror_mode": {
    "name": "ipython",
    "version": 3
   },
   "file_extension": ".py",
   "mimetype": "text/x-python",
   "name": "python",
   "nbconvert_exporter": "python",
   "pygments_lexer": "ipython3",
   "version": "3.8.6"
  },
  "orig_nbformat": 4
 },
 "nbformat": 4,
 "nbformat_minor": 2
}
